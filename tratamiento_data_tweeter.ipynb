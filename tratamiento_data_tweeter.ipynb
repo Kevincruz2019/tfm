{
  "nbformat": 4,
  "nbformat_minor": 0,
  "metadata": {
    "colab": {
      "provenance": [],
      "authorship_tag": "ABX9TyMySgzEygCVDO2HvQlBwxng",
      "include_colab_link": true
    },
    "kernelspec": {
      "name": "python3",
      "display_name": "Python 3"
    },
    "language_info": {
      "name": "python"
    }
  },
  "cells": [
    {
      "cell_type": "markdown",
      "metadata": {
        "id": "view-in-github",
        "colab_type": "text"
      },
      "source": [
        "<a href=\"https://colab.research.google.com/github/Kevincruz2019/tfm/blob/main/tratamiento_data_tweeter.ipynb\" target=\"_parent\"><img src=\"https://colab.research.google.com/assets/colab-badge.svg\" alt=\"Open In Colab\"/></a>"
      ]
    },
    {
      "cell_type": "markdown",
      "source": [
        "# Análisis de interacción con datos extraído desde la cuenta oficial del Instituto Superior Tecnológico Guayaquil, red Social Twitter. \n",
        "\n",
        "**Objetivos**\n",
        "\n",
        "\n",
        "1.   Preparar los datos en un formato adecuado para el entrenamiento del modelo. Asegúrandonos de tener una columna que represente la variable objetivo (cantidad de likes o retweets) y las características relevantes (fecha de publicación, Seguidores, menciones) en columnas separadas.\n",
        "\n",
        "\n",
        "2.   Dividir los datos en un conjunto de entrenamiento y un conjunto de prueba utilizando la función train_test_split de scikit-learn. Esto te permitirá evaluar el rendimiento del modelo en datos no vistos.\n",
        "\n",
        "\n",
        "5.   Eligir un modelo de aprendizaje automático adecuado para esta actividad. \n",
        "\n",
        "\n",
        "6.   Ajustar el modelo a los datos de entrenamiento utilizando la función fit del modelo seleccionado. Proporciona las características y la variable objetivo correspondiente para entrenar el modelo.\n",
        "\n",
        "\n",
        "\n",
        "\n",
        "7.  Utilizando técnicas de aprendizaje automático, construir modelos predictivos para estimar la cantidad de likes o retweets que podría recibir una publicación en función de características como la fecha de publicación, seguidores o menciones. Tambien conocer mediante este modelo si una publicación podría llegar a ser exitosa o no. Esto te permitirá prever el impacto potencial de una publicación antes de compartirla.\n",
        "\n",
        "8.   Evalúar el rendimiento del modelo utilizando métricas apropiadas. \n",
        "\n",
        "\n"
      ],
      "metadata": {
        "id": "BAwymXqfCJOD"
      }
    },
    {
      "cell_type": "markdown",
      "source": [
        "\n",
        "En esta parte se esta importando varias librerías de Python relacionadas con el análisis de datos y el aprendizaje automático (machine learning). A continuación, te explicaré brevemente qué hace cada una de estas librerías y por qué podrías usarlas en tu código:\n",
        "\n",
        "**pandas:** Es una librería muy popular para el análisis de datos en Python. Proporciona estructuras de datos flexibles y eficientes para trabajar con conjuntos de datos tabulares, como dataframes. Permite cargar datos desde diferentes fuentes, realizar transformaciones y manipulaciones de datos, y realizar operaciones estadísticas.\n",
        "\n",
        "**numpy:** Es una librería fundamental para el cálculo numérico en Python. Proporciona una amplia gama de funciones y herramientas para trabajar con matrices y realizar operaciones matemáticas eficientes. Es particularmente útil para el procesamiento y análisis de datos numéricos.\n",
        "\n",
        "**seaborn:** Es una librería de visualización de datos basada en Matplotlib. Proporciona una interfaz de alto nivel para crear gráficos estadísticos atractivos y visualmente informativos. Seaborn ofrece una variedad de funciones para crear rápidamente gráficos de barras, diagramas de dispersión, gráficos de cajas, mapas de calor y más.\n",
        "\n",
        "**matplotlib.pyplot:** Es una librería ampliamente utilizada para crear visualizaciones en Python. Proporciona una interfaz similar a la de MATLAB y se utiliza principalmente para generar gráficos estáticos, como gráficos de líneas, de dispersión, de barras, histogramas, entre otros.\n",
        "\n",
        "**sklearn.linear_model.LogisticRegression:** Es una clase de la librería scikit-learn (sklearn) que implementa el algoritmo de regresión logística. La regresión logística es un método de clasificación utilizado para predecir la probabilidad de que una instancia pertenezca a una clase en particular.\n",
        "\n",
        "**sklearn.model_selection.train_test_split:** Es una función de scikit-learn que se utiliza para dividir un conjunto de datos en conjuntos de entrenamiento y prueba. Esto es útil para evaluar el rendimiento de un modelo de aprendizaje automático, ya que permite entrenar el modelo en un conjunto de datos y luego evaluarlo en datos no vistos.\n",
        "\n",
        "**sklearn.metrics:** Es un módulo de scikit-learn que proporciona métricas de evaluación para evaluar el rendimiento de modelos de aprendizaje automático. Las métricas incluyen la precisión (accuracy), el recall, el R2 score, entre otros.\n",
        "\n",
        "**scipy.stats.spearmanr:** Es una función de la librería SciPy que calcula el coeficiente de correlación de Spearman entre dos variables. Este coeficiente mide la relación monotónica entre las variables, lo cual es útil para analizar relaciones no lineales.\n",
        "\n",
        "**sklearn.tree.DecisionTreeClassifier:** Es una clase de scikit-learn que implementa el algoritmo de árbol de decisiones para la clasificación. Los árboles de decisiones son un método de aprendizaje supervisado que se utiliza para clasificar instancias en diferentes clases utilizando reglas de decisión basadas en características.\n",
        "\n",
        "**sklearn.tree.plot_tree:** Es una función de scikit-learn que se utiliza para visualizar el árbol de decisiones generado por un modelo entrenado. Esta función permite ver"
      ],
      "metadata": {
        "id": "HcrTwCq_BgCu"
      }
    },
    {
      "cell_type": "code",
      "execution_count": 1,
      "metadata": {
        "id": "XnbgenfBeCwj"
      },
      "outputs": [],
      "source": [
        "import pandas as pd\n",
        "import numpy as np\n",
        "import seaborn as sns\n",
        "import matplotlib.pyplot as plt\n",
        "from sklearn.linear_model import LogisticRegression\n",
        "from sklearn.model_selection import train_test_split\n",
        "from sklearn.metrics import accuracy_score, recall_score, r2_score\n",
        "from scipy.stats import spearmanr\n",
        "from sklearn.tree import DecisionTreeClassifier, plot_tree"
      ]
    },
    {
      "cell_type": "markdown",
      "source": [
        "Después de ejecutar esta línea de código, los datos del archivo CSV se cargarán en el DataFrame 'data', y se podrá utilizar para realizar operaciones y análisis."
      ],
      "metadata": {
        "id": "aNOhMH8MJ6f9"
      }
    },
    {
      "cell_type": "code",
      "source": [
        "# Cargar los datos desde el archivo CSV\n",
        "data = pd.read_csv('datos_twitter.csv', encoding= 'Utf-8')"
      ],
      "metadata": {
        "id": "apo8ZTSCopB1"
      },
      "execution_count": 3,
      "outputs": []
    },
    {
      "cell_type": "markdown",
      "source": [
        "Al ejecutar data.head(10), se esta solicitando visualizar las primeras 10 filas de los datos cargados en el DataFrame data. "
      ],
      "metadata": {
        "id": "P2UNKAxkLO9T"
      }
    },
    {
      "cell_type": "code",
      "source": [
        "data.head(10)"
      ],
      "metadata": {
        "colab": {
          "base_uri": "https://localhost:8080/",
          "height": 363
        },
        "id": "m07w7Tllow2O",
        "outputId": "5289c897-c310-4a5a-de8d-4214e91724c1"
      },
      "execution_count": 4,
      "outputs": [
        {
          "output_type": "execute_result",
          "data": {
            "text/plain": [
              "       Fecha                                              Texto  Longitud  \\\n",
              "0  14/5/2023  Hoy se llevó a cabo la posesión del nuevo alca...       271   \n",
              "1  13/5/2023  En el campus Guayaquil y en el Campus CMI cele...       263   \n",
              "2  11/5/2023  Hoy tuvimos la socialización con la participac...       247   \n",
              "3  11/5/2023  Te invitamos a la rendición de cuentas 2022 🚨\\...       162   \n",
              "4  11/5/2023  Levante la mano quien se siente feliz al conoc...       158   \n",
              "5  10/5/2023  ¡Contáctate con nosotros! Te dejamos los corre...       142   \n",
              "6  10/5/2023  La Gestoría de Arte y Cultura tiene diferentes...       297   \n",
              "7  10/5/2023  RT @istg_ec: 👉 NivelTEC amplió sus inscripcion...       140   \n",
              "8   9/5/2023  👉 NivelTEC amplió sus inscripciones 👈\\n\\nParti...       301   \n",
              "9   9/5/2023  👉 NivelTEC amplió sus inscripciones 👈\\n\\nParti...       301   \n",
              "\n",
              "   Likes  Retweets  Seguidores  Menciones  Hashtags  \n",
              "0     15         6         NaN        NaN       NaN  \n",
              "1     16         6         NaN        NaN       NaN  \n",
              "2      5         5         NaN        NaN       NaN  \n",
              "3     12         8         NaN        NaN       NaN  \n",
              "4      8         5         NaN        NaN       NaN  \n",
              "5      4         5         NaN        NaN       NaN  \n",
              "6      6         6         NaN        NaN       NaN  \n",
              "7      0         8         NaN        NaN       NaN  \n",
              "8      9         8         NaN        NaN       NaN  \n",
              "9      6         2         NaN        NaN       NaN  "
            ],
            "text/html": [
              "\n",
              "  <div id=\"df-9ec36261-5c5a-4272-b32d-304d885e1127\">\n",
              "    <div class=\"colab-df-container\">\n",
              "      <div>\n",
              "<style scoped>\n",
              "    .dataframe tbody tr th:only-of-type {\n",
              "        vertical-align: middle;\n",
              "    }\n",
              "\n",
              "    .dataframe tbody tr th {\n",
              "        vertical-align: top;\n",
              "    }\n",
              "\n",
              "    .dataframe thead th {\n",
              "        text-align: right;\n",
              "    }\n",
              "</style>\n",
              "<table border=\"1\" class=\"dataframe\">\n",
              "  <thead>\n",
              "    <tr style=\"text-align: right;\">\n",
              "      <th></th>\n",
              "      <th>Fecha</th>\n",
              "      <th>Texto</th>\n",
              "      <th>Longitud</th>\n",
              "      <th>Likes</th>\n",
              "      <th>Retweets</th>\n",
              "      <th>Seguidores</th>\n",
              "      <th>Menciones</th>\n",
              "      <th>Hashtags</th>\n",
              "    </tr>\n",
              "  </thead>\n",
              "  <tbody>\n",
              "    <tr>\n",
              "      <th>0</th>\n",
              "      <td>14/5/2023</td>\n",
              "      <td>Hoy se llevó a cabo la posesión del nuevo alca...</td>\n",
              "      <td>271</td>\n",
              "      <td>15</td>\n",
              "      <td>6</td>\n",
              "      <td>NaN</td>\n",
              "      <td>NaN</td>\n",
              "      <td>NaN</td>\n",
              "    </tr>\n",
              "    <tr>\n",
              "      <th>1</th>\n",
              "      <td>13/5/2023</td>\n",
              "      <td>En el campus Guayaquil y en el Campus CMI cele...</td>\n",
              "      <td>263</td>\n",
              "      <td>16</td>\n",
              "      <td>6</td>\n",
              "      <td>NaN</td>\n",
              "      <td>NaN</td>\n",
              "      <td>NaN</td>\n",
              "    </tr>\n",
              "    <tr>\n",
              "      <th>2</th>\n",
              "      <td>11/5/2023</td>\n",
              "      <td>Hoy tuvimos la socialización con la participac...</td>\n",
              "      <td>247</td>\n",
              "      <td>5</td>\n",
              "      <td>5</td>\n",
              "      <td>NaN</td>\n",
              "      <td>NaN</td>\n",
              "      <td>NaN</td>\n",
              "    </tr>\n",
              "    <tr>\n",
              "      <th>3</th>\n",
              "      <td>11/5/2023</td>\n",
              "      <td>Te invitamos a la rendición de cuentas 2022 🚨\\...</td>\n",
              "      <td>162</td>\n",
              "      <td>12</td>\n",
              "      <td>8</td>\n",
              "      <td>NaN</td>\n",
              "      <td>NaN</td>\n",
              "      <td>NaN</td>\n",
              "    </tr>\n",
              "    <tr>\n",
              "      <th>4</th>\n",
              "      <td>11/5/2023</td>\n",
              "      <td>Levante la mano quien se siente feliz al conoc...</td>\n",
              "      <td>158</td>\n",
              "      <td>8</td>\n",
              "      <td>5</td>\n",
              "      <td>NaN</td>\n",
              "      <td>NaN</td>\n",
              "      <td>NaN</td>\n",
              "    </tr>\n",
              "    <tr>\n",
              "      <th>5</th>\n",
              "      <td>10/5/2023</td>\n",
              "      <td>¡Contáctate con nosotros! Te dejamos los corre...</td>\n",
              "      <td>142</td>\n",
              "      <td>4</td>\n",
              "      <td>5</td>\n",
              "      <td>NaN</td>\n",
              "      <td>NaN</td>\n",
              "      <td>NaN</td>\n",
              "    </tr>\n",
              "    <tr>\n",
              "      <th>6</th>\n",
              "      <td>10/5/2023</td>\n",
              "      <td>La Gestoría de Arte y Cultura tiene diferentes...</td>\n",
              "      <td>297</td>\n",
              "      <td>6</td>\n",
              "      <td>6</td>\n",
              "      <td>NaN</td>\n",
              "      <td>NaN</td>\n",
              "      <td>NaN</td>\n",
              "    </tr>\n",
              "    <tr>\n",
              "      <th>7</th>\n",
              "      <td>10/5/2023</td>\n",
              "      <td>RT @istg_ec: 👉 NivelTEC amplió sus inscripcion...</td>\n",
              "      <td>140</td>\n",
              "      <td>0</td>\n",
              "      <td>8</td>\n",
              "      <td>NaN</td>\n",
              "      <td>NaN</td>\n",
              "      <td>NaN</td>\n",
              "    </tr>\n",
              "    <tr>\n",
              "      <th>8</th>\n",
              "      <td>9/5/2023</td>\n",
              "      <td>👉 NivelTEC amplió sus inscripciones 👈\\n\\nParti...</td>\n",
              "      <td>301</td>\n",
              "      <td>9</td>\n",
              "      <td>8</td>\n",
              "      <td>NaN</td>\n",
              "      <td>NaN</td>\n",
              "      <td>NaN</td>\n",
              "    </tr>\n",
              "    <tr>\n",
              "      <th>9</th>\n",
              "      <td>9/5/2023</td>\n",
              "      <td>👉 NivelTEC amplió sus inscripciones 👈\\n\\nParti...</td>\n",
              "      <td>301</td>\n",
              "      <td>6</td>\n",
              "      <td>2</td>\n",
              "      <td>NaN</td>\n",
              "      <td>NaN</td>\n",
              "      <td>NaN</td>\n",
              "    </tr>\n",
              "  </tbody>\n",
              "</table>\n",
              "</div>\n",
              "      <button class=\"colab-df-convert\" onclick=\"convertToInteractive('df-9ec36261-5c5a-4272-b32d-304d885e1127')\"\n",
              "              title=\"Convert this dataframe to an interactive table.\"\n",
              "              style=\"display:none;\">\n",
              "        \n",
              "  <svg xmlns=\"http://www.w3.org/2000/svg\" height=\"24px\"viewBox=\"0 0 24 24\"\n",
              "       width=\"24px\">\n",
              "    <path d=\"M0 0h24v24H0V0z\" fill=\"none\"/>\n",
              "    <path d=\"M18.56 5.44l.94 2.06.94-2.06 2.06-.94-2.06-.94-.94-2.06-.94 2.06-2.06.94zm-11 1L8.5 8.5l.94-2.06 2.06-.94-2.06-.94L8.5 2.5l-.94 2.06-2.06.94zm10 10l.94 2.06.94-2.06 2.06-.94-2.06-.94-.94-2.06-.94 2.06-2.06.94z\"/><path d=\"M17.41 7.96l-1.37-1.37c-.4-.4-.92-.59-1.43-.59-.52 0-1.04.2-1.43.59L10.3 9.45l-7.72 7.72c-.78.78-.78 2.05 0 2.83L4 21.41c.39.39.9.59 1.41.59.51 0 1.02-.2 1.41-.59l7.78-7.78 2.81-2.81c.8-.78.8-2.07 0-2.86zM5.41 20L4 18.59l7.72-7.72 1.47 1.35L5.41 20z\"/>\n",
              "  </svg>\n",
              "      </button>\n",
              "      \n",
              "  <style>\n",
              "    .colab-df-container {\n",
              "      display:flex;\n",
              "      flex-wrap:wrap;\n",
              "      gap: 12px;\n",
              "    }\n",
              "\n",
              "    .colab-df-convert {\n",
              "      background-color: #E8F0FE;\n",
              "      border: none;\n",
              "      border-radius: 50%;\n",
              "      cursor: pointer;\n",
              "      display: none;\n",
              "      fill: #1967D2;\n",
              "      height: 32px;\n",
              "      padding: 0 0 0 0;\n",
              "      width: 32px;\n",
              "    }\n",
              "\n",
              "    .colab-df-convert:hover {\n",
              "      background-color: #E2EBFA;\n",
              "      box-shadow: 0px 1px 2px rgba(60, 64, 67, 0.3), 0px 1px 3px 1px rgba(60, 64, 67, 0.15);\n",
              "      fill: #174EA6;\n",
              "    }\n",
              "\n",
              "    [theme=dark] .colab-df-convert {\n",
              "      background-color: #3B4455;\n",
              "      fill: #D2E3FC;\n",
              "    }\n",
              "\n",
              "    [theme=dark] .colab-df-convert:hover {\n",
              "      background-color: #434B5C;\n",
              "      box-shadow: 0px 1px 3px 1px rgba(0, 0, 0, 0.15);\n",
              "      filter: drop-shadow(0px 1px 2px rgba(0, 0, 0, 0.3));\n",
              "      fill: #FFFFFF;\n",
              "    }\n",
              "  </style>\n",
              "\n",
              "      <script>\n",
              "        const buttonEl =\n",
              "          document.querySelector('#df-9ec36261-5c5a-4272-b32d-304d885e1127 button.colab-df-convert');\n",
              "        buttonEl.style.display =\n",
              "          google.colab.kernel.accessAllowed ? 'block' : 'none';\n",
              "\n",
              "        async function convertToInteractive(key) {\n",
              "          const element = document.querySelector('#df-9ec36261-5c5a-4272-b32d-304d885e1127');\n",
              "          const dataTable =\n",
              "            await google.colab.kernel.invokeFunction('convertToInteractive',\n",
              "                                                     [key], {});\n",
              "          if (!dataTable) return;\n",
              "\n",
              "          const docLinkHtml = 'Like what you see? Visit the ' +\n",
              "            '<a target=\"_blank\" href=https://colab.research.google.com/notebooks/data_table.ipynb>data table notebook</a>'\n",
              "            + ' to learn more about interactive tables.';\n",
              "          element.innerHTML = '';\n",
              "          dataTable['output_type'] = 'display_data';\n",
              "          await google.colab.output.renderOutput(dataTable, element);\n",
              "          const docLink = document.createElement('div');\n",
              "          docLink.innerHTML = docLinkHtml;\n",
              "          element.appendChild(docLink);\n",
              "        }\n",
              "      </script>\n",
              "    </div>\n",
              "  </div>\n",
              "  "
            ]
          },
          "metadata": {},
          "execution_count": 4
        }
      ]
    },
    {
      "cell_type": "markdown",
      "source": [
        "Al ejecutar print(data.shape), vamos a obtener  la forma (shape) de los datos cargados en el DataFrame data. La forma de un DataFrame en pandas es una tupla que indica el número de filas y columnas presentes en el DataFrame, lo utilizamos para conocer cuantas filas y columnas tienen nuestro registro."
      ],
      "metadata": {
        "id": "woB2kXyALk7p"
      }
    },
    {
      "cell_type": "code",
      "source": [
        "# Columnas Vs Filas\n",
        "print(data.shape)"
      ],
      "metadata": {
        "colab": {
          "base_uri": "https://localhost:8080/"
        },
        "id": "1aNy44gCo2hO",
        "outputId": "1c6e3468-a84d-46cc-b2a0-cf450eb0b1fe"
      },
      "execution_count": 5,
      "outputs": [
        {
          "output_type": "stream",
          "name": "stdout",
          "text": [
            "(9711, 8)\n"
          ]
        }
      ]
    },
    {
      "cell_type": "markdown",
      "source": [
        "Inspeccionamos inicialmente los tipos de datos"
      ],
      "metadata": {
        "id": "uR1ea9u2MR2p"
      }
    },
    {
      "cell_type": "code",
      "source": [
        "# Obtener los tipos de datos de las columnas\n",
        "tipos_datos = data.dtypes.reset_index()\n",
        "tipos_datos.columns = ['Columna', 'Tipo de Dato']\n",
        "\n",
        "# Crear el estilo de la tabla\n",
        "estilo_tabla = tipos_datos.style \\\n",
        "    .set_table_styles([\n",
        "        {'selector': 'th', 'props': [('border', '1px solid black')]}\n",
        "    ]) \\\n",
        "\n",
        "# Imprimir la tabla de tipos de datos con estilo\n",
        "print('Tipos de Datos de las Columnas')\n",
        "display(estilo_tabla)"
      ],
      "metadata": {
        "colab": {
          "base_uri": "https://localhost:8080/",
          "height": 327
        },
        "id": "oRfdpaNxo9iJ",
        "outputId": "e8ab500a-c10b-4a58-a847-5970cddded6a"
      },
      "execution_count": 6,
      "outputs": [
        {
          "output_type": "stream",
          "name": "stdout",
          "text": [
            "Tipos de Datos de las Columnas\n"
          ]
        },
        {
          "output_type": "display_data",
          "data": {
            "text/plain": [
              "<pandas.io.formats.style.Styler at 0x7f0bfd392b60>"
            ],
            "text/html": [
              "<style type=\"text/css\">\n",
              "#T_93c3b th {\n",
              "  border: 1px solid black;\n",
              "}\n",
              "</style>\n",
              "<table id=\"T_93c3b\" class=\"dataframe\">\n",
              "  <thead>\n",
              "    <tr>\n",
              "      <th class=\"blank level0\" >&nbsp;</th>\n",
              "      <th id=\"T_93c3b_level0_col0\" class=\"col_heading level0 col0\" >Columna</th>\n",
              "      <th id=\"T_93c3b_level0_col1\" class=\"col_heading level0 col1\" >Tipo de Dato</th>\n",
              "    </tr>\n",
              "  </thead>\n",
              "  <tbody>\n",
              "    <tr>\n",
              "      <th id=\"T_93c3b_level0_row0\" class=\"row_heading level0 row0\" >0</th>\n",
              "      <td id=\"T_93c3b_row0_col0\" class=\"data row0 col0\" >Fecha</td>\n",
              "      <td id=\"T_93c3b_row0_col1\" class=\"data row0 col1\" >object</td>\n",
              "    </tr>\n",
              "    <tr>\n",
              "      <th id=\"T_93c3b_level0_row1\" class=\"row_heading level0 row1\" >1</th>\n",
              "      <td id=\"T_93c3b_row1_col0\" class=\"data row1 col0\" >Texto</td>\n",
              "      <td id=\"T_93c3b_row1_col1\" class=\"data row1 col1\" >object</td>\n",
              "    </tr>\n",
              "    <tr>\n",
              "      <th id=\"T_93c3b_level0_row2\" class=\"row_heading level0 row2\" >2</th>\n",
              "      <td id=\"T_93c3b_row2_col0\" class=\"data row2 col0\" >Longitud</td>\n",
              "      <td id=\"T_93c3b_row2_col1\" class=\"data row2 col1\" >int64</td>\n",
              "    </tr>\n",
              "    <tr>\n",
              "      <th id=\"T_93c3b_level0_row3\" class=\"row_heading level0 row3\" >3</th>\n",
              "      <td id=\"T_93c3b_row3_col0\" class=\"data row3 col0\" >Likes</td>\n",
              "      <td id=\"T_93c3b_row3_col1\" class=\"data row3 col1\" >int64</td>\n",
              "    </tr>\n",
              "    <tr>\n",
              "      <th id=\"T_93c3b_level0_row4\" class=\"row_heading level0 row4\" >4</th>\n",
              "      <td id=\"T_93c3b_row4_col0\" class=\"data row4 col0\" >Retweets</td>\n",
              "      <td id=\"T_93c3b_row4_col1\" class=\"data row4 col1\" >int64</td>\n",
              "    </tr>\n",
              "    <tr>\n",
              "      <th id=\"T_93c3b_level0_row5\" class=\"row_heading level0 row5\" >5</th>\n",
              "      <td id=\"T_93c3b_row5_col0\" class=\"data row5 col0\" >Seguidores</td>\n",
              "      <td id=\"T_93c3b_row5_col1\" class=\"data row5 col1\" >float64</td>\n",
              "    </tr>\n",
              "    <tr>\n",
              "      <th id=\"T_93c3b_level0_row6\" class=\"row_heading level0 row6\" >6</th>\n",
              "      <td id=\"T_93c3b_row6_col0\" class=\"data row6 col0\" >Menciones</td>\n",
              "      <td id=\"T_93c3b_row6_col1\" class=\"data row6 col1\" >float64</td>\n",
              "    </tr>\n",
              "    <tr>\n",
              "      <th id=\"T_93c3b_level0_row7\" class=\"row_heading level0 row7\" >7</th>\n",
              "      <td id=\"T_93c3b_row7_col0\" class=\"data row7 col0\" >Hashtags</td>\n",
              "      <td id=\"T_93c3b_row7_col1\" class=\"data row7 col1\" >float64</td>\n",
              "    </tr>\n",
              "  </tbody>\n",
              "</table>\n"
            ]
          },
          "metadata": {}
        }
      ]
    },
    {
      "cell_type": "markdown",
      "source": [
        "# **Análisis de datos faltantes**"
      ],
      "metadata": {
        "id": "dvZTPJcmpCak"
      }
    },
    {
      "cell_type": "markdown",
      "source": [
        " Se está generando un mapa de calor (heatmap) utilizando la biblioteca Seaborn en Python. El objetivo es visualizar los valores faltantes en las primeras 10 columnas del dataframe llamado 'data'."
      ],
      "metadata": {
        "id": "aF0OOJBbPkoJ"
      }
    },
    {
      "cell_type": "code",
      "source": [
        "cols = data.columns[:10] \n",
        "colours = ['#000099', '#ffff00'] # specify the colours - yellow is missing. blue is not missing.\n",
        "sns.heatmap(data[cols].isnull(), cmap=sns.color_palette(colours))"
      ],
      "metadata": {
        "colab": {
          "base_uri": "https://localhost:8080/",
          "height": 517
        },
        "id": "lKHk25OEpAoI",
        "outputId": "735155f2-52c0-49f5-8d9c-e8a4396497a2"
      },
      "execution_count": 7,
      "outputs": [
        {
          "output_type": "execute_result",
          "data": {
            "text/plain": [
              "<Axes: >"
            ]
          },
          "metadata": {},
          "execution_count": 7
        },
        {
          "output_type": "display_data",
          "data": {
            "text/plain": [
              "<Figure size 640x480 with 2 Axes>"
            ],
            "image/png": "[encoded data removed]"
          },
          "metadata": {}
        }
      ]
    },
    {
      "cell_type": "markdown",
      "source": [
        "Se calcula el porcentaje de valores faltantes para cada atributo de entrada en el dataframe 'data'. Luego, se imprime una tabla que muestra el nombre del atributo y el porcentaje de valores faltantes correspondiente."
      ],
      "metadata": {
        "id": "lcdpLnNAQr7-"
      }
    },
    {
      "cell_type": "code",
      "source": [
        "# Porcentaje de los valores faltantes por atributo de entrada\n",
        "for col in data.columns:\n",
        "    pct_missing = np.mean(data[col].isnull())\n",
        "    print('| {:<20} | {:>6.2f}% |'.format(col, round(pct_missing*100, 2)))\n",
        "\n",
        "# Imprimir línea de separación\n",
        "print('-' * 31)"
      ],
      "metadata": {
        "colab": {
          "base_uri": "https://localhost:8080/"
        },
        "id": "mWYugqVMpU5a",
        "outputId": "a4b43d66-5c38-4d17-9fb7-7fb655afc8ae"
      },
      "execution_count": 8,
      "outputs": [
        {
          "output_type": "stream",
          "name": "stdout",
          "text": [
            "| Fecha                |   0.00% |\n",
            "| Texto                |   0.00% |\n",
            "| Longitud             |   0.00% |\n",
            "| Likes                |   0.00% |\n",
            "| Retweets             |   0.00% |\n",
            "| Seguidores           |  33.33% |\n",
            "| Menciones            |  33.33% |\n",
            "| Hashtags             |  66.67% |\n",
            "-------------------------------\n"
          ]
        }
      ]
    },
    {
      "cell_type": "markdown",
      "source": [
        "Se elimina la columna \"Hashtags\" del dataframe 'data' utilizando el método \"drop()\".La decisión de eliminar la columna \"Hashtags\" del conjunto de datos se basa en el hecho de que presenta un alto porcentaje de datos faltantes, alcanzando un 66.67%. Los datos faltantes en una columna pueden afectar negativamente el análisis y los resultados obtenidos, ya que la falta de información puede introducir sesgos o distorsionar la interpretación de los resultados.\n"
      ],
      "metadata": {
        "id": "LMdLxP8kRcgS"
      }
    },
    {
      "cell_type": "code",
      "source": [
        "# Eliminar la columna \"columna_eliminar\"\n",
        "data = data.drop(\"Hashtags\", axis=1)"
      ],
      "metadata": {
        "id": "vtbY1G3-ZifR"
      },
      "execution_count": 9,
      "outputs": []
    },
    {
      "cell_type": "code",
      "source": [
        "print(data.columns)"
      ],
      "metadata": {
        "colab": {
          "base_uri": "https://localhost:8080/"
        },
        "id": "NGUGszvRa2UU",
        "outputId": "d47e8016-6e7b-42a5-b1dd-cbf06c3aeef4"
      },
      "execution_count": 10,
      "outputs": [
        {
          "output_type": "stream",
          "name": "stdout",
          "text": [
            "Index(['Fecha', 'Texto', 'Longitud', 'Likes', 'Retweets', 'Seguidores',\n",
            "       'Menciones'],\n",
            "      dtype='object')\n"
          ]
        }
      ]
    },
    {
      "cell_type": "markdown",
      "source": [
        "En este paso del análisis de datos, se está imputando los valores faltantes de las columnas \"Seguidores\" y \"Menciones\" utilizando la media de los valores existentes en cada columna. Este proceso se realiza para abordar el problema de los datos faltantes y garantizar que todas las filas tengan valores válidos en estas variables.\n",
        "\n",
        "La imputación de los valores faltantes con la media es una técnica comúnmente utilizada cuando los datos faltantes son numéricos. Se elige la media como medida central para reemplazar los valores faltantes, ya que proporciona una estimación razonable basada en la distribución existente de los datos.\n",
        "\n",
        "Al imputar los valores faltantes con la media, se busca preservar la estructura y las características generales del conjunto de datos, evitando distorsiones o sesgos significativos que podrían surgir de otros métodos de imputación. Esta estrategia también permite mantener el tamaño y la integridad del conjunto de datos original."
      ],
      "metadata": {
        "id": "IDwmHZL4S6q0"
      }
    },
    {
      "cell_type": "code",
      "source": [
        "# Imputar los valores faltantes de las columnas con la media\n",
        "data[\"Seguidores\"] = data[\"Seguidores\"].fillna(data[\"Seguidores\"].mean())\n",
        "data[\"Menciones\"] = data[\"Menciones\"].fillna(data[\"Menciones\"].mean())"
      ],
      "metadata": {
        "id": "ANdRDYnya-t1"
      },
      "execution_count": 11,
      "outputs": []
    },
    {
      "cell_type": "markdown",
      "source": [
        "En base al resultado obtenido al generar un mapa de calor de los valores faltantes en las primeras 10 columnas del conjunto de datos, se puede observar que ya no hay datos vacíos presentes. El mapa de calor muestra visualmente la presencia o ausencia de valores faltantes en cada columna, donde el color amarillo indica la ausencia de datos y el color azul indica la presencia de datos."
      ],
      "metadata": {
        "id": "dLPBZC-4Tx31"
      }
    },
    {
      "cell_type": "code",
      "source": [
        "cols = data.columns[:10] # first 30 columns\n",
        "colours = ['#000099', '#ffff00'] # specify the colours - yellow is missing. blue is not missing.\n",
        "sns.heatmap(data[cols].isnull(), cmap=sns.color_palette(colours))"
      ],
      "metadata": {
        "colab": {
          "base_uri": "https://localhost:8080/",
          "height": 517
        },
        "id": "YGFvefCPbpe3",
        "outputId": "7b8325c2-6211-4bfc-e392-24189d7cf23b"
      },
      "execution_count": 12,
      "outputs": [
        {
          "output_type": "execute_result",
          "data": {
            "text/plain": [
              "<Axes: >"
            ]
          },
          "metadata": {},
          "execution_count": 12
        },
        {
          "output_type": "display_data",
          "data": {
            "text/plain": [
              "<Figure size 640x480 with 2 Axes>"
            ],
            "image/png": "[encoded data removed]"
          },
          "metadata": {}
        }
      ]
    },
    {
      "cell_type": "markdown",
      "source": [
        "En base al cálculo del porcentaje de valores faltantes por atributo de entrada en el conjunto de datos, se puede observar que ya no existen datos vacíos. Cada columna ha sido evaluada y se ha determinado el porcentaje de valores faltantes en relación al total de registros."
      ],
      "metadata": {
        "id": "fUSQy-0CURC8"
      }
    },
    {
      "cell_type": "code",
      "source": [
        "# Porcentaje de los valores faltantes por atributo de entrada\n",
        "for col in data.columns:\n",
        "    pct_missing = np.mean(data[col].isnull())\n",
        "    print('| {:<20} | {:>6.2f}% |'.format(col, round(pct_missing*100, 2)))\n",
        "\n",
        "# Imprimir línea de separación\n",
        "print('-' * 31)"
      ],
      "metadata": {
        "colab": {
          "base_uri": "https://localhost:8080/"
        },
        "id": "7TfTvd6xby03",
        "outputId": "988b9f7d-3178-4b8e-ba7d-0c1d08298cfc"
      },
      "execution_count": 13,
      "outputs": [
        {
          "output_type": "stream",
          "name": "stdout",
          "text": [
            "| Fecha                |   0.00% |\n",
            "| Texto                |   0.00% |\n",
            "| Longitud             |   0.00% |\n",
            "| Likes                |   0.00% |\n",
            "| Retweets             |   0.00% |\n",
            "| Seguidores           |   0.00% |\n",
            "| Menciones            |   0.00% |\n",
            "-------------------------------\n"
          ]
        }
      ]
    },
    {
      "cell_type": "markdown",
      "source": [
        "La creación de la variable objetivo \"Interaccion\" en el conjunto de datos es un paso fundamental en este estudio. Esta variable se obtiene sumando los valores de las columnas \"Likes\" y \"Retweets\", lo cual permite cuantificar la interacción de los usuarios con las publicaciones del instituto en Twitter.\n",
        "\n",
        "La inclusión de esta variable objetivo es relevante para analizar y evaluar el nivel de participación y el interés de los usuarios en las publicaciones. Al combinar las métricas de \"Likes\" y \"Retweets\", se obtiene una medida integral de la interacción, capturando tanto la respuesta positiva de los usuarios (a través de los \"Likes\") como su voluntad de compartir la publicación con su propia audiencia (mediante los \"Retweets\")."
      ],
      "metadata": {
        "id": "NdmysE_0VEiy"
      }
    },
    {
      "cell_type": "code",
      "source": [
        "data['Interaccion'] = data['Likes'] + data['Retweets']"
      ],
      "metadata": {
        "id": "5tVDFbzVWQ8f"
      },
      "execution_count": 14,
      "outputs": []
    },
    {
      "cell_type": "markdown",
      "source": [
        "Se procedió a calcular la matriz de correlación utilizando el método de Spearman en el conjunto de datos. Este enfoque es especialmente útil cuando se trata de analizar relaciones no lineales o cuando las variables no siguen una distribución normal.\n",
        "\n",
        "Al examinar la matriz de correlación de Spearman, se observa que las variables \"Retweets\" y \"Likes\" muestran una correlación más fuerte con la variable objetivo \"Interaccion\" en comparación con otras variables del conjunto de datos. Esta correlación positiva indica que a medida que aumentan los valores de \"Retweets\" y \"Likes\", también tiende a aumentar la cantidad de interacción de los usuarios con las publicaciones del instituto en Twitter.\n",
        "\n",
        "Estos hallazgos son consistentes con la intuición, ya que es de esperar que las publicaciones que generen más retweets y likes también generen una mayor interacción por parte de los usuarios. Esta correlación positiva sugiere que estas dos variables pueden desempeñar un papel importante en la predicción o estimación de la interacción de los usuarios en futuras publicaciones."
      ],
      "metadata": {
        "id": "Uq2wUsjBVZni"
      }
    },
    {
      "cell_type": "code",
      "source": [
        "# Calcular la matriz de correlación de Spearman\n",
        "corr_matrix = data.corr(method='spearman')"
      ],
      "metadata": {
        "colab": {
          "base_uri": "https://localhost:8080/"
        },
        "id": "zzZ4YRx_ZBHM",
        "outputId": "6d588804-fd09-4154-93f5-d38ef038f3f6"
      },
      "execution_count": 15,
      "outputs": [
        {
          "output_type": "stream",
          "name": "stderr",
          "text": [
            "<ipython-input-15-e8f4f97dd829>:2: FutureWarning: The default value of numeric_only in DataFrame.corr is deprecated. In a future version, it will default to False. Select only valid columns or specify the value of numeric_only to silence this warning.\n",
            "  corr_matrix = data.corr(method='spearman')\n"
          ]
        }
      ]
    },
    {
      "cell_type": "code",
      "source": [
        "# Generar un gráfico de correlación utilizando el mapa de calor de Seaborn\n",
        "sns.heatmap(corr_matrix, annot=True, cmap='coolwarm')\n"
      ],
      "metadata": {
        "colab": {
          "base_uri": "https://localhost:8080/",
          "height": 516
        },
        "id": "Q-GJFXfAZaK5",
        "outputId": "a5e21a1c-cf06-4fcb-ce7f-826438d89815"
      },
      "execution_count": 16,
      "outputs": [
        {
          "output_type": "execute_result",
          "data": {
            "text/plain": [
              "<Axes: >"
            ]
          },
          "metadata": {},
          "execution_count": 16
        },
        {
          "output_type": "display_data",
          "data": {
            "text/plain": [
              "<Figure size 640x480 with 2 Axes>"
            ],
            "image/png": "[encoded data removed]"
          },
          "metadata": {}
        }
      ]
    },
    {
      "cell_type": "code",
      "source": [
        "# Obtener los valores de correlación con la variable objetivo y ordenarlos de forma descendente\n",
        "correlation_with_target = corr_matrix['Interaccion'].drop('Interaccion').sort_values(ascending=False)\n",
        "\n",
        "# Imprimir los valores de correlación con la variable objetivo\n",
        "print(correlation_with_target)\n",
        "\n",
        "# Mostrar el gráfico de correlación\n",
        "plt.show()"
      ],
      "metadata": {
        "colab": {
          "base_uri": "https://localhost:8080/"
        },
        "id": "6d7HGtgIZs1x",
        "outputId": "0abcbf4d-2d20-4086-b585-856bb04f38ae"
      },
      "execution_count": 17,
      "outputs": [
        {
          "output_type": "stream",
          "name": "stdout",
          "text": [
            "Retweets      0.967952\n",
            "Likes         0.419415\n",
            "Menciones     0.204240\n",
            "Longitud     -0.494631\n",
            "Seguidores   -0.691041\n",
            "Name: Interaccion, dtype: float64\n"
          ]
        }
      ]
    },
    {
      "cell_type": "markdown",
      "source": [
        "Se realizó un análisis para determinar la fecha con mayor importancia en términos de interacción de los usuarios. Utilizando la función \"idxmax()\" en la columna \"Interaccion\" del conjunto de datos, se identificó el índice del registro que tiene el valor máximo de interacción.\n",
        "\n",
        "Posteriormente, se accedió a la columna \"Fecha\" correspondiente a dicho índice utilizando la función \"loc[]\" para obtener la fecha asociada a la máxima importancia en términos de interacción de los usuarios.\n",
        "\n",
        "La variable \"fecha_max_importancia\" contiene ahora la fecha con mayor importancia en base a la interacción de los usuarios. Este resultado puede ser de relevancia para comprender qué publicaciones o eventos específicos generaron una mayor participación y respuesta por parte de los usuarios en el contexto del análisis realizado."
      ],
      "metadata": {
        "id": "3q9HKWgBVhGI"
      }
    },
    {
      "cell_type": "code",
      "source": [
        "# Obtener la fecha con mayor importancia\n",
        "fecha_max_importancia = data.loc[data['Interaccion'].idxmax(), 'Fecha']"
      ],
      "metadata": {
        "id": "n_rzgLwBfXc8"
      },
      "execution_count": 18,
      "outputs": []
    },
    {
      "cell_type": "code",
      "source": [
        "# Imprimir los resultados\n",
        "print(data)\n",
        "print('Fecha con mayor interacción:', fecha_max_importancia)"
      ],
      "metadata": {
        "colab": {
          "base_uri": "https://localhost:8080/"
        },
        "id": "5yWihEznffPk",
        "outputId": "83274c1f-c828-4457-8240-e7226230718a"
      },
      "execution_count": 19,
      "outputs": [
        {
          "output_type": "stream",
          "name": "stdout",
          "text": [
            "          Fecha                                              Texto  Longitud  \\\n",
            "0     14/5/2023  Hoy se llevó a cabo la posesión del nuevo alca...       271   \n",
            "1     13/5/2023  En el campus Guayaquil y en el Campus CMI cele...       263   \n",
            "2     11/5/2023  Hoy tuvimos la socialización con la participac...       247   \n",
            "3     11/5/2023  Te invitamos a la rendición de cuentas 2022 🚨\\...       162   \n",
            "4     11/5/2023  Levante la mano quien se siente feliz al conoc...       158   \n",
            "...         ...                                                ...       ...   \n",
            "9706  10/6/2018  RT @EduSuperiorEc: La Senescyt es el centro au...       140   \n",
            "9707   9/6/2018  Gracias Vicentg96 por seguirnos! https://t.co/...        56   \n",
            "9708   8/6/2018  Reunión de vinculación con el Ing. Rolando Roj...       206   \n",
            "9709   8/6/2018  Gracias Alejando Jimenez por seguirnos! https:...        63   \n",
            "9710   8/6/2018  RT @vallovig: Tutorial Cómo aplicar a Banco d ...       140   \n",
            "\n",
            "      Likes  Retweets   Seguidores  Menciones  Interaccion  \n",
            "0        15         6  1386.855731   0.939759           21  \n",
            "1        16         6  1386.855731   0.939759           22  \n",
            "2         5         5  1386.855731   0.939759           10  \n",
            "3        12         8  1386.855731   0.939759           20  \n",
            "4         8         5  1386.855731   0.939759           13  \n",
            "...     ...       ...          ...        ...          ...  \n",
            "9706      0        11  2773.000000   1.000000           11  \n",
            "9707      1         0  2773.000000   0.000000            1  \n",
            "9708      4         0  2773.000000   0.000000            4  \n",
            "9709      1         0  2773.000000   0.000000            1  \n",
            "9710      0        12  2773.000000   2.000000           12  \n",
            "\n",
            "[9711 rows x 8 columns]\n",
            "Fecha con mayor interacción: 8/10/2019\n"
          ]
        }
      ]
    },
    {
      "cell_type": "code",
      "source": [
        "# Obtener las 10 fechas con mayor interacción\n",
        "top_10_fechas = data.nlargest(10, 'Interaccion')['Fecha']\n",
        "top_10_interacciones = data.nlargest(10, 'Interaccion')['Interaccion']\n",
        "# Obtener una escala de colores en función de los valores de interacción\n",
        "colores = plt.cm.viridis(np.linspace(0, 1, len(top_10_interacciones)))\n",
        "\n"
      ],
      "metadata": {
        "id": "6XQwS7Rtgj0X"
      },
      "execution_count": 20,
      "outputs": []
    },
    {
      "cell_type": "markdown",
      "source": [
        "Se realizó un gráfico de barras para visualizar las 10 fechas con mayor interacción en base a los datos analizados. Se utilizó una lista de colores comunes, que incluye 'red', 'blue', 'green', 'yellow', 'purple', 'black', 'brown', 'orange', 'pink' y 'gray', para colorear las barras correspondientes a cada fecha.\n",
        "\n",
        "El eje x del gráfico representa las fechas y el eje y representa las interacciones. Cada barra muestra la cantidad de interacciones para cada fecha. El título del gráfico es \"Top 10 Fechas con Mayor Interacción\". Además, se rotaron los valores en el eje x en 45 grados para facilitar la lectura de las fechas.\n",
        "\n",
        "Para proporcionar mayor precisión, se agregaron etiquetas en cada barra que muestran el valor exacto de interacciones correspondiente a cada fecha. Cada etiqueta está alineada al centro de la barra y ubicada en la parte superior de la misma, utilizando el color correspondiente de la lista de colores comunes.\n",
        "\n",
        "Este gráfico permite identificar de manera visual las fechas con mayor interacción, lo que puede ser útil para comprender los momentos o eventos que generaron un mayor nivel de participación de los usuarios en relación a las publicaciones o actividades analizadas."
      ],
      "metadata": {
        "id": "JCXQUebSWGYa"
      }
    },
    {
      "cell_type": "code",
      "source": [
        "colores_comunes = ['red', 'blue', 'green', 'yellow', 'purple', 'black', 'brown', 'orange', 'pink', 'gray']\n",
        "\n",
        "plt.figure(figsize=(10, 6))\n",
        "plt.bar(top_10_fechas, top_10_interacciones, color=colores_comunes)\n",
        "plt.xlabel('Fecha')\n",
        "plt.ylabel('Interacciones')\n",
        "plt.title('Top 10 Fechas con Mayor Interacción')\n",
        "plt.xticks(rotation=45)\n",
        "\n",
        "# Agregar los valores exactos en cada barra\n",
        "for i, (valor, color) in enumerate(zip(top_10_interacciones, colores_comunes)):\n",
        "    plt.text(top_10_fechas.iloc[i], valor, str(valor), ha='center', va='bottom', color=color)\n",
        "\n",
        "plt.show()"
      ],
      "metadata": {
        "colab": {
          "base_uri": "https://localhost:8080/",
          "height": 617
        },
        "id": "sZFISZtrgu6N",
        "outputId": "b75bd22b-74b5-4d58-8118-3d81adfc31c9"
      },
      "execution_count": 21,
      "outputs": [
        {
          "output_type": "display_data",
          "data": {
            "text/plain": [
              "<Figure size 1000x600 with 1 Axes>"
            ],
            "image/png": "[encoded data removed]"
          },
          "metadata": {}
        }
      ]
    },
    {
      "cell_type": "code",
      "source": [
        "# Obtener las 10 fechas con mayor interacción\n",
        "top_10_fechas = data.nlargest(10, 'Interaccion')['Fecha']\n",
        "\n",
        "# Filtrar las publicaciones correspondientes a las fechas seleccionadas\n",
        "publicaciones_top_10 = data[data['Fecha'].isin(top_10_fechas)]['Texto']\n",
        "\n",
        "# Imprimir las publicaciones\n",
        "for fecha, publicacion in zip(top_10_fechas, publicaciones_top_10):\n",
        "    print(f\"Fecha: {fecha}\")\n",
        "    print(f\"Publicación: {publicacion}\")\n",
        "    print(\"--------------\")"
      ],
      "metadata": {
        "colab": {
          "base_uri": "https://localhost:8080/"
        },
        "id": "lv_SG4WrkmoB",
        "outputId": "e268d5f7-fe55-4400-df1b-c8163fef696a"
      },
      "execution_count": 22,
      "outputs": [
        {
          "output_type": "stream",
          "name": "stdout",
          "text": [
            "Fecha: 8/10/2019\n",
            "Publicación: RT @EduSuperiorEc: ¿Postulaste por un cupo a la educación superior? \n",
            "\n",
            "👇 23 de octubre será la fase de aceptación 👇\n",
            "\n",
            "1⃣ Ingresa en: https://…\n",
            "--------------\n",
            "Fecha: 28/2/2022\n",
            "Publicación: Ya puedes inscribirte para rendir el examen de ubicación de inglés 🧐. Te dejamos el link del formulario https://t.co/DPDb1BhitQ https://t.co/IWd5IOYano\n",
            "--------------\n",
            "Fecha: 14/10/2019\n",
            "Publicación: ¡Un aplauso para Elias Franco! Es nuestro fan destacado por su constante interacción en nuestras redes sociales 👏❤️\n",
            "\n",
            "#fan #interaccion #somosistg https://t.co/igy3BnWAI4\n",
            "--------------\n",
            "Fecha: 8/8/2021\n",
            "Publicación: Te contamos los documentos que que necesitas para la matriculación 🤔.                                                      Debes estar atento al cronograma de matriculación para que puedas matricularte correctamente. https://t.co/1aExtRZl3Q\n",
            "--------------\n",
            "Fecha: 22/10/2022\n",
            "Publicación: RT @daneyfemmejolie: Excelente evento donde tanto estudiantes como docentes muestran sus dotes en innovación y tecnologia! #becasSenescytEc…\n",
            "--------------\n",
            "Fecha: 15/6/2021\n",
            "Publicación: Sistema de Riego Automatizado para Huertos Verticales \"Green UP\" creado por los estudiantes de la Carrera de Desarrollo de Software 🎉. Se optimizará el proceso de irrigación manual del cultivos hacia una automatización de bajo costo y consumo eléctrico.  #innovación #tecnología https://t.co/hlhz4w08NK\n",
            "--------------\n",
            "Fecha: 19/7/2018\n",
            "Publicación: RT @LassoGuillermo: ¡Más de USD 13.5 millones en becas estudiantiles y ayudas económicas para 3.500 jóvenes! \n",
            "\n",
            "El Ecuador es el país de las…\n",
            "--------------\n",
            "Fecha: 23/3/2022\n",
            "Publicación: El proyecto del ISTG “Green-Up” 🎉 https://t.co/XBPfDzcoOe\n",
            "--------------\n",
            "Fecha: 11/7/2020\n",
            "Publicación: RT @EduSuperiorEc: ¡Apostamos por la inversión en educación superior!\n",
            "\n",
            "El presidente @LassoGuillermo y la secretaria @amontalvoch entregaro…\n",
            "--------------\n",
            "Fecha: 27/4/2020\n",
            "Publicación: El ISTG siempre innovando en sus proyectos. Nuestros estudiantes ponen en práctica todo lo aprendido en clases 🤩 https://t.co/YemAISMz8G\n",
            "--------------\n"
          ]
        }
      ]
    },
    {
      "cell_type": "markdown",
      "source": [
        "# **Modelo de regresión Logística**\n"
      ],
      "metadata": {
        "id": "20KayWuQ4vPD"
      }
    },
    {
      "cell_type": "markdown",
      "source": [
        "En esta parte del código, se realiza la división de los datos en características (features) y la variable objetivo.\n",
        "\n",
        "Las características, representadas por la variable X, se seleccionan de la columna de datos que contiene los valores de \"Retweets\" y \"Likes\". Estas características se utilizan para predecir la variable objetivo.\n",
        "\n",
        "La variable objetivo, representada por la variable y, se extrae de la columna de datos correspondiente a \"Interaccion\". Esta variable es la que se busca predecir o explicar a partir de las características seleccionadas.\n",
        "\n",
        "Al dividir los datos en características y variable objetivo, se crea una estructura que permite utilizar las características para entrenar un modelo predictivo y luego evaluar su capacidad para predecir la variable objetivo. Esto es fundamental en el análisis de datos y el desarrollo de modelos predictivos."
      ],
      "metadata": {
        "id": "uNd6pHcoWVwA"
      }
    },
    {
      "cell_type": "code",
      "source": [
        "# Dividir los datos en características (features) y la variable objetivo\n",
        "X = data[['Retweets','Likes']]  # Característica(s)\n",
        "y = data['Interaccion']  # Variable objetivo"
      ],
      "metadata": {
        "id": "Y89r4aIgVRJ5"
      },
      "execution_count": 23,
      "outputs": []
    },
    {
      "cell_type": "markdown",
      "source": [
        "En este fragmento de código se realiza la división de los datos en conjuntos de entrenamiento y prueba, y luego se crea y entrena el modelo de regresión logística.\n",
        "\n",
        "La función train_test_split del paquete sklearn.model_selection se utiliza para dividir los datos en conjuntos de entrenamiento y prueba. Los parámetros X y y representan las características y la variable objetivo, respectivamente. Se utiliza el parámetro test_size para especificar el tamaño del conjunto de prueba, en este caso se ha establecido en 0.2, lo que significa que el 20% de los datos se utilizarán para prueba. El parámetro random_state se utiliza para establecer una semilla aleatoria, lo que garantiza que la división de los datos sea reproducible.\n",
        "\n",
        "Después de la división de los datos, se crea una instancia del modelo de regresión logística utilizando la clase LogisticRegression. Este modelo se asigna a la variable model.\n",
        "\n",
        "A continuación, se entrena el modelo utilizando el método fit(), que recibe como argumentos las características de entrenamiento (X_train) y la variable objetivo de entrenamiento (y_train). El modelo utiliza estos datos para aprender los patrones y ajustar sus parámetros internos, de manera que pueda realizar predicciones precisas sobre la variable objetivo.\n"
      ],
      "metadata": {
        "id": "cFFXzDb8XScl"
      }
    },
    {
      "cell_type": "code",
      "source": [
        "# Dividir los datos en conjuntos de entrenamiento y prueba\n",
        "X_train, X_test, y_train, y_test = train_test_split(X, y, test_size=0.2, random_state=42)\n",
        "# Convertir las columnas de fecha a representación numérica"
      ],
      "metadata": {
        "id": "5MeDAjG1VUG5"
      },
      "execution_count": 24,
      "outputs": []
    },
    {
      "cell_type": "code",
      "source": [
        "# Crear y entrenar el modelo de regresión logística\n",
        "model = LogisticRegression()\n",
        "model.fit(X_train, y_train)"
      ],
      "metadata": {
        "colab": {
          "base_uri": "https://localhost:8080/",
          "height": 214
        },
        "id": "qDHrN_7IVWed",
        "outputId": "80141958-3747-4af3-e0d0-3007c84a993d"
      },
      "execution_count": 25,
      "outputs": [
        {
          "output_type": "stream",
          "name": "stderr",
          "text": [
            "/usr/local/lib/python3.10/dist-packages/sklearn/linear_model/_logistic.py:458: ConvergenceWarning: lbfgs failed to converge (status=1):\n",
            "STOP: TOTAL NO. of ITERATIONS REACHED LIMIT.\n",
            "\n",
            "Increase the number of iterations (max_iter) or scale the data as shown in:\n",
            "    https://scikit-learn.org/stable/modules/preprocessing.html\n",
            "Please also refer to the documentation for alternative solver options:\n",
            "    https://scikit-learn.org/stable/modules/linear_model.html#logistic-regression\n",
            "  n_iter_i = _check_optimize_result(\n"
          ]
        },
        {
          "output_type": "execute_result",
          "data": {
            "text/plain": [
              "LogisticRegression()"
            ],
            "text/html": [
              "<style>#sk-container-id-1 {color: black;background-color: white;}#sk-container-id-1 pre{padding: 0;}#sk-container-id-1 div.sk-toggleable {background-color: white;}#sk-container-id-1 label.sk-toggleable__label {cursor: pointer;display: block;width: 100%;margin-bottom: 0;padding: 0.3em;box-sizing: border-box;text-align: center;}#sk-container-id-1 label.sk-toggleable__label-arrow:before {content: \"▸\";float: left;margin-right: 0.25em;color: #696969;}#sk-container-id-1 label.sk-toggleable__label-arrow:hover:before {color: black;}#sk-container-id-1 div.sk-estimator:hover label.sk-toggleable__label-arrow:before {color: black;}#sk-container-id-1 div.sk-toggleable__content {max-height: 0;max-width: 0;overflow: hidden;text-align: left;background-color: #f0f8ff;}#sk-container-id-1 div.sk-toggleable__content pre {margin: 0.2em;color: black;border-radius: 0.25em;background-color: #f0f8ff;}#sk-container-id-1 input.sk-toggleable__control:checked~div.sk-toggleable__content {max-height: 200px;max-width: 100%;overflow: auto;}#sk-container-id-1 input.sk-toggleable__control:checked~label.sk-toggleable__label-arrow:before {content: \"▾\";}#sk-container-id-1 div.sk-estimator input.sk-toggleable__control:checked~label.sk-toggleable__label {background-color: #d4ebff;}#sk-container-id-1 div.sk-label input.sk-toggleable__control:checked~label.sk-toggleable__label {background-color: #d4ebff;}#sk-container-id-1 input.sk-hidden--visually {border: 0;clip: rect(1px 1px 1px 1px);clip: rect(1px, 1px, 1px, 1px);height: 1px;margin: -1px;overflow: hidden;padding: 0;position: absolute;width: 1px;}#sk-container-id-1 div.sk-estimator {font-family: monospace;background-color: #f0f8ff;border: 1px dotted black;border-radius: 0.25em;box-sizing: border-box;margin-bottom: 0.5em;}#sk-container-id-1 div.sk-estimator:hover {background-color: #d4ebff;}#sk-container-id-1 div.sk-parallel-item::after {content: \"\";width: 100%;border-bottom: 1px solid gray;flex-grow: 1;}#sk-container-id-1 div.sk-label:hover label.sk-toggleable__label {background-color: #d4ebff;}#sk-container-id-1 div.sk-serial::before {content: \"\";position: absolute;border-left: 1px solid gray;box-sizing: border-box;top: 0;bottom: 0;left: 50%;z-index: 0;}#sk-container-id-1 div.sk-serial {display: flex;flex-direction: column;align-items: center;background-color: white;padding-right: 0.2em;padding-left: 0.2em;position: relative;}#sk-container-id-1 div.sk-item {position: relative;z-index: 1;}#sk-container-id-1 div.sk-parallel {display: flex;align-items: stretch;justify-content: center;background-color: white;position: relative;}#sk-container-id-1 div.sk-item::before, #sk-container-id-1 div.sk-parallel-item::before {content: \"\";position: absolute;border-left: 1px solid gray;box-sizing: border-box;top: 0;bottom: 0;left: 50%;z-index: -1;}#sk-container-id-1 div.sk-parallel-item {display: flex;flex-direction: column;z-index: 1;position: relative;background-color: white;}#sk-container-id-1 div.sk-parallel-item:first-child::after {align-self: flex-end;width: 50%;}#sk-container-id-1 div.sk-parallel-item:last-child::after {align-self: flex-start;width: 50%;}#sk-container-id-1 div.sk-parallel-item:only-child::after {width: 0;}#sk-container-id-1 div.sk-dashed-wrapped {border: 1px dashed gray;margin: 0 0.4em 0.5em 0.4em;box-sizing: border-box;padding-bottom: 0.4em;background-color: white;}#sk-container-id-1 div.sk-label label {font-family: monospace;font-weight: bold;display: inline-block;line-height: 1.2em;}#sk-container-id-1 div.sk-label-container {text-align: center;}#sk-container-id-1 div.sk-container {/* jupyter's `normalize.less` sets `[hidden] { display: none; }` but bootstrap.min.css set `[hidden] { display: none !important; }` so we also need the `!important` here to be able to override the default hidden behavior on the sphinx rendered scikit-learn.org. See: https://github.com/scikit-learn/scikit-learn/issues/21755 */display: inline-block !important;position: relative;}#sk-container-id-1 div.sk-text-repr-fallback {display: none;}</style><div id=\"sk-container-id-1\" class=\"sk-top-container\"><div class=\"sk-text-repr-fallback\"><pre>LogisticRegression()</pre><b>In a Jupyter environment, please rerun this cell to show the HTML representation or trust the notebook. <br />On GitHub, the HTML representation is unable to render, please try loading this page with nbviewer.org.</b></div><div class=\"sk-container\" hidden><div class=\"sk-item\"><div class=\"sk-estimator sk-toggleable\"><input class=\"sk-toggleable__control sk-hidden--visually\" id=\"sk-estimator-id-1\" type=\"checkbox\" checked><label for=\"sk-estimator-id-1\" class=\"sk-toggleable__label sk-toggleable__label-arrow\">LogisticRegression</label><div class=\"sk-toggleable__content\"><pre>LogisticRegression()</pre></div></div></div></div></div>"
            ]
          },
          "metadata": {},
          "execution_count": 25
        }
      ]
    },
    {
      "cell_type": "markdown",
      "source": [
        "En este fragmento de código se realizan predicciones en el conjunto de prueba utilizando el modelo de regresión logística previamente entrenado.\n",
        "\n",
        "El método predict() se utiliza para realizar las predicciones en base a las características de prueba (X_test). Las predicciones resultantes se almacenan en la variable y_pred.\n",
        "\n",
        "Posteriormente, se evalúa la precisión del modelo utilizando el método score(). Este método calcula la precisión del modelo al comparar las predicciones realizadas (y_pred) con los valores reales de la variable objetivo de prueba (y_test). El valor de precisión obtenido se almacena en la variable accuracy."
      ],
      "metadata": {
        "id": "nIViv4JOXelL"
      }
    },
    {
      "cell_type": "code",
      "source": [
        "# Realizar predicciones en el conjunto de prueba\n",
        "y_pred = model.predict(X_test)"
      ],
      "metadata": {
        "id": "373HLBFLVb3e"
      },
      "execution_count": 26,
      "outputs": []
    },
    {
      "cell_type": "code",
      "source": [
        "# Evaluar la precisión del modelo u otras métricas de evaluación\n",
        "accuracy = model.score(X_test, y_test)\n",
        "print(\"Precisión del modelo:\", accuracy)"
      ],
      "metadata": {
        "colab": {
          "base_uri": "https://localhost:8080/"
        },
        "id": "EMVo-xcKVdSl",
        "outputId": "ac569a35-4128-4c10-ab96-2e568946e896"
      },
      "execution_count": 27,
      "outputs": [
        {
          "output_type": "stream",
          "name": "stdout",
          "text": [
            "Precisión del modelo: 0.1152856407617087\n"
          ]
        }
      ]
    },
    {
      "cell_type": "markdown",
      "source": [
        "Basándonos en el resultado obtenido de una precisión del 11% en la predicción de la variable objetivo en el conjunto de prueba, podemos concluir que el modelo de regresión logística utilizado no es efectivo para predecir las interacciones en base a las características de \"Retweets\" y \"Likes\".\n",
        "\n",
        "Una precisión del 11% indica que el modelo tiene un rendimiento muy bajo y no logra capturar adecuadamente la relación entre las variables predictoras y la variable objetivo. Esto puede deberse a diferentes factores, como la falta de correlación significativa entre las variables de entrada y la variable objetivo, o la presencia de otros factores influyentes que no están siendo considerados en el modelo.\n",
        "\n"
      ],
      "metadata": {
        "id": "HOx22marXtU3"
      }
    },
    {
      "cell_type": "markdown",
      "source": [
        "# **Modelo de árbol de decisión**"
      ],
      "metadata": {
        "id": "VsBxzFB45EZT"
      }
    },
    {
      "cell_type": "markdown",
      "source": [
        "En este paso, se realiza la división de los datos en características (features) y la variable objetivo.\n",
        "\n",
        "En primer lugar, se asigna a la variable X todas las columnas del conjunto de datos original, excepto la columna 'Interaccion', ya que esa es nuestra variable objetivo. Esto se realiza utilizando el método drop y especificando el parámetro axis=1 para indicar que se desea eliminar una columna.\n",
        "\n",
        "A continuación, se asigna a la variable y la columna 'Interaccion', que representa nuestra variable objetivo.\n",
        "\n",
        "Adicionalmente, se convierte la columna 'Fecha' a una representación numérica utilizando el método pd.to_numeric(). Esto es necesario si se desea implementar un modelo de árbol de decisión, ya que estos modelos requieren que todas las características sean numéricas.\n",
        "\n",
        "Este proceso nos permite separar claramente las características de la variable objetivo, preparando los datos para su posterior entrenamiento y evaluación de un modelo de árbol de decisión."
      ],
      "metadata": {
        "id": "-B8ze6NmX2r4"
      }
    },
    {
      "cell_type": "code",
      "source": [
        "# Dividir los datos en características (features) y la variable objetivo\n",
        "data['Fecha'] = pd.to_datetime(data['Fecha'])\n",
        "X = data.drop(['Interaccion','Texto'], axis=1)  # Características (excluyendo la variable objetivo)\n",
        "y = data['Interaccion']  # Variable objetivo\n"
      ],
      "metadata": {
        "id": "gArme2tEXKRc"
      },
      "execution_count": 35,
      "outputs": []
    },
    {
      "cell_type": "code",
      "source": [
        "# Convertir las columnas de fecha a representación numérica\n",
        "X['Fecha'] = pd.to_numeric(X['Fecha'])\n"
      ],
      "metadata": {
        "id": "7fiKTV0UX5bj"
      },
      "execution_count": 37,
      "outputs": []
    },
    {
      "cell_type": "markdown",
      "source": [
        "En este paso, se realiza la división de los datos en conjuntos de entrenamiento y prueba.\n",
        "\n",
        "Utilizando la función train_test_split del módulo sklearn.model_selection, se separa el conjunto de características X y la variable objetivo y en cuatro conjuntos diferentes: X_train, X_test, y_train y y_test.\n",
        "\n",
        "El parámetro test_size=0.2 indica que se desea asignar el 20% de los datos para el conjunto de prueba, mientras que el 80% restante se utilizará para el entrenamiento.\n",
        "\n",
        "El parámetro random_state=42 se utiliza para establecer una semilla y asegurar que la división de los datos sea reproducible.\n",
        "\n",
        "Una vez divididos los datos, se crea y entrena el modelo de árbol de decisión utilizando la clase DecisionTreeClassifier del módulo sklearn.tree. El modelo se asigna a la variable model, y se entrena utilizando los conjuntos de entrenamiento X_train y y_train mediante el método fit().\n",
        "\n",
        "Este paso nos permite tener conjuntos de datos separados para entrenar y evaluar el modelo de árbol de decisión, lo cual es esencial para medir su desempeño y capacidad de predicción."
      ],
      "metadata": {
        "id": "o_7Mr5ASYZz3"
      }
    },
    {
      "cell_type": "code",
      "source": [
        "# Dividir los datos en conjuntos de entrenamiento y prueba\n",
        "X_train, X_test, y_train, y_test = train_test_split(X, y, test_size=0.2, random_state=42)\n"
      ],
      "metadata": {
        "id": "rzdZ7KDrVdZI"
      },
      "execution_count": 38,
      "outputs": []
    },
    {
      "cell_type": "code",
      "source": [
        "# Crear y entrenar el modelo de árbol de decisión\n",
        "model = DecisionTreeClassifier()\n",
        "model.fit(X_train, y_train)\n"
      ],
      "metadata": {
        "colab": {
          "base_uri": "https://localhost:8080/",
          "height": 75
        },
        "id": "x2DD5IN1XU7s",
        "outputId": "2f277963-889a-4564-f1ca-358595f26cb9"
      },
      "execution_count": 39,
      "outputs": [
        {
          "output_type": "execute_result",
          "data": {
            "text/plain": [
              "DecisionTreeClassifier()"
            ],
            "text/html": [
              "<style>#sk-container-id-2 {color: black;background-color: white;}#sk-container-id-2 pre{padding: 0;}#sk-container-id-2 div.sk-toggleable {background-color: white;}#sk-container-id-2 label.sk-toggleable__label {cursor: pointer;display: block;width: 100%;margin-bottom: 0;padding: 0.3em;box-sizing: border-box;text-align: center;}#sk-container-id-2 label.sk-toggleable__label-arrow:before {content: \"▸\";float: left;margin-right: 0.25em;color: #696969;}#sk-container-id-2 label.sk-toggleable__label-arrow:hover:before {color: black;}#sk-container-id-2 div.sk-estimator:hover label.sk-toggleable__label-arrow:before {color: black;}#sk-container-id-2 div.sk-toggleable__content {max-height: 0;max-width: 0;overflow: hidden;text-align: left;background-color: #f0f8ff;}#sk-container-id-2 div.sk-toggleable__content pre {margin: 0.2em;color: black;border-radius: 0.25em;background-color: #f0f8ff;}#sk-container-id-2 input.sk-toggleable__control:checked~div.sk-toggleable__content {max-height: 200px;max-width: 100%;overflow: auto;}#sk-container-id-2 input.sk-toggleable__control:checked~label.sk-toggleable__label-arrow:before {content: \"▾\";}#sk-container-id-2 div.sk-estimator input.sk-toggleable__control:checked~label.sk-toggleable__label {background-color: #d4ebff;}#sk-container-id-2 div.sk-label input.sk-toggleable__control:checked~label.sk-toggleable__label {background-color: #d4ebff;}#sk-container-id-2 input.sk-hidden--visually {border: 0;clip: rect(1px 1px 1px 1px);clip: rect(1px, 1px, 1px, 1px);height: 1px;margin: -1px;overflow: hidden;padding: 0;position: absolute;width: 1px;}#sk-container-id-2 div.sk-estimator {font-family: monospace;background-color: #f0f8ff;border: 1px dotted black;border-radius: 0.25em;box-sizing: border-box;margin-bottom: 0.5em;}#sk-container-id-2 div.sk-estimator:hover {background-color: #d4ebff;}#sk-container-id-2 div.sk-parallel-item::after {content: \"\";width: 100%;border-bottom: 1px solid gray;flex-grow: 1;}#sk-container-id-2 div.sk-label:hover label.sk-toggleable__label {background-color: #d4ebff;}#sk-container-id-2 div.sk-serial::before {content: \"\";position: absolute;border-left: 1px solid gray;box-sizing: border-box;top: 0;bottom: 0;left: 50%;z-index: 0;}#sk-container-id-2 div.sk-serial {display: flex;flex-direction: column;align-items: center;background-color: white;padding-right: 0.2em;padding-left: 0.2em;position: relative;}#sk-container-id-2 div.sk-item {position: relative;z-index: 1;}#sk-container-id-2 div.sk-parallel {display: flex;align-items: stretch;justify-content: center;background-color: white;position: relative;}#sk-container-id-2 div.sk-item::before, #sk-container-id-2 div.sk-parallel-item::before {content: \"\";position: absolute;border-left: 1px solid gray;box-sizing: border-box;top: 0;bottom: 0;left: 50%;z-index: -1;}#sk-container-id-2 div.sk-parallel-item {display: flex;flex-direction: column;z-index: 1;position: relative;background-color: white;}#sk-container-id-2 div.sk-parallel-item:first-child::after {align-self: flex-end;width: 50%;}#sk-container-id-2 div.sk-parallel-item:last-child::after {align-self: flex-start;width: 50%;}#sk-container-id-2 div.sk-parallel-item:only-child::after {width: 0;}#sk-container-id-2 div.sk-dashed-wrapped {border: 1px dashed gray;margin: 0 0.4em 0.5em 0.4em;box-sizing: border-box;padding-bottom: 0.4em;background-color: white;}#sk-container-id-2 div.sk-label label {font-family: monospace;font-weight: bold;display: inline-block;line-height: 1.2em;}#sk-container-id-2 div.sk-label-container {text-align: center;}#sk-container-id-2 div.sk-container {/* jupyter's `normalize.less` sets `[hidden] { display: none; }` but bootstrap.min.css set `[hidden] { display: none !important; }` so we also need the `!important` here to be able to override the default hidden behavior on the sphinx rendered scikit-learn.org. See: https://github.com/scikit-learn/scikit-learn/issues/21755 */display: inline-block !important;position: relative;}#sk-container-id-2 div.sk-text-repr-fallback {display: none;}</style><div id=\"sk-container-id-2\" class=\"sk-top-container\"><div class=\"sk-text-repr-fallback\"><pre>DecisionTreeClassifier()</pre><b>In a Jupyter environment, please rerun this cell to show the HTML representation or trust the notebook. <br />On GitHub, the HTML representation is unable to render, please try loading this page with nbviewer.org.</b></div><div class=\"sk-container\" hidden><div class=\"sk-item\"><div class=\"sk-estimator sk-toggleable\"><input class=\"sk-toggleable__control sk-hidden--visually\" id=\"sk-estimator-id-2\" type=\"checkbox\" checked><label for=\"sk-estimator-id-2\" class=\"sk-toggleable__label sk-toggleable__label-arrow\">DecisionTreeClassifier</label><div class=\"sk-toggleable__content\"><pre>DecisionTreeClassifier()</pre></div></div></div></div></div>"
            ]
          },
          "metadata": {},
          "execution_count": 39
        }
      ]
    },
    {
      "cell_type": "markdown",
      "source": [
        "En este paso, se realizan predicciones utilizando el modelo de árbol de decisión entrenado en el conjunto de prueba X_test.\n",
        "\n",
        "La función predict() del modelo se utiliza para predecir los valores de la variable objetivo y basándose en las características del conjunto de prueba X_test. Las predicciones resultantes se almacenan en la variable y_pred.\n",
        "\n",
        "Posteriormente, se evalúa la precisión del modelo comparando las predicciones obtenidas y_pred con los valores reales de la variable objetivo del conjunto de prueba y_test. Esto se realiza utilizando la función accuracy_score() del módulo sklearn.metrics. La precisión se calcula como la proporción de predicciones correctas sobre el total de predicciones realizadas."
      ],
      "metadata": {
        "id": "7zC83k2oZVVK"
      }
    },
    {
      "cell_type": "code",
      "source": [
        "# Realizar predicciones en el conjunto de prueba\n",
        "y_pred = model.predict(X_test)"
      ],
      "metadata": {
        "id": "helsWkjjYffo"
      },
      "execution_count": 40,
      "outputs": []
    },
    {
      "cell_type": "code",
      "source": [
        "# Evaluar la precisión del modelo\n",
        "accuracy = accuracy_score(y_test, y_pred)\n",
        "print(\"Precisión del modelo:\", accuracy)"
      ],
      "metadata": {
        "colab": {
          "base_uri": "https://localhost:8080/"
        },
        "id": "DUV1dKZbYlgq",
        "outputId": "8a3f4fbe-1ff9-45c2-d239-eedd05089518"
      },
      "execution_count": 41,
      "outputs": [
        {
          "output_type": "stream",
          "name": "stdout",
          "text": [
            "Precisión del modelo: 0.939269171384457\n"
          ]
        }
      ]
    },
    {
      "cell_type": "markdown",
      "source": [
        "Se realizaron predicciones utilizando el modelo de árbol de decisión entrenado, utilizando el conjunto de prueba. La precisión del modelo se evaluó utilizando la métrica de precisión, que se calculó como la proporción de predicciones correctas sobre el total de predicciones realizadas. Se obtuvo una precisión del modelo de 0.94, lo que indica que el modelo tiene una alta capacidad de predicción en el conjunto de prueba."
      ],
      "metadata": {
        "id": "kPprjJX0Y_i_"
      }
    },
    {
      "cell_type": "markdown",
      "source": [
        "En este paso, se calcula el recall del modelo utilizando la función recall_score() del módulo sklearn.metrics. El recall es una métrica que mide la capacidad del modelo para identificar correctamente los casos positivos en relación con el total de casos positivos presentes en los datos.\n",
        "\n",
        "En el ejemplo proporcionado, se utiliza el parámetro average='weighted' para calcular el recall promediado ponderado, teniendo en cuenta el número de muestras en cada clase."
      ],
      "metadata": {
        "id": "Rlu9Yf0-ZZYp"
      }
    },
    {
      "cell_type": "code",
      "source": [
        "# Realizar predicciones en el conjunto de prueba\n",
        "y_pred = model.predict(X_test)"
      ],
      "metadata": {
        "id": "RQmRABRYCi3p"
      },
      "execution_count": 42,
      "outputs": []
    },
    {
      "cell_type": "code",
      "source": [
        "# Calcular el recall\n",
        "recall = recall_score(y_test, y_pred, average='weighted')  # Reemplaza y_test con tus etiquetas de prueba\n",
        "print(\"Recall:\", recall)"
      ],
      "metadata": {
        "colab": {
          "base_uri": "https://localhost:8080/"
        },
        "id": "BJN79bvnCQmv",
        "outputId": "a50f0407-b4c1-4cd4-ba7c-9cbbd0c1dc3f"
      },
      "execution_count": 43,
      "outputs": [
        {
          "output_type": "stream",
          "name": "stdout",
          "text": [
            "Recall: 0.939269171384457\n"
          ]
        },
        {
          "output_type": "stream",
          "name": "stderr",
          "text": [
            "/usr/local/lib/python3.10/dist-packages/sklearn/metrics/_classification.py:1344: UndefinedMetricWarning: Recall is ill-defined and being set to 0.0 in labels with no true samples. Use `zero_division` parameter to control this behavior.\n",
            "  _warn_prf(average, modifier, msg_start, len(result))\n"
          ]
        }
      ]
    },
    {
      "cell_type": "markdown",
      "source": [
        "Se calculó el recall del modelo de árbol de decisión utilizando la métrica de recall. Se obtuvo un valor de recall de 0.94, lo que indica que el modelo tiene una alta capacidad para identificar correctamente los casos positivos en el conjunto de prueba. Esto sugiere que el modelo es efectivo en la detección de los casos relevantes de la variable objetivo en los datos analizados."
      ],
      "metadata": {
        "id": "TFGeD7tKZjPJ"
      }
    },
    {
      "cell_type": "markdown",
      "source": [
        "En este paso, se calcula el coeficiente de determinación (R2) del modelo utilizando la función r2_score() del módulo sklearn.metrics. El coeficiente de determinación es una medida que indica la proporción de la varianza en la variable objetivo que es explicada por el modelo.\n",
        "\n",
        "En el ejemplo proporcionado, se utiliza la variable y_test para las etiquetas de prueba y y_pred para las predicciones del modelo.\n",
        "\n",
        "El valor del coeficiente de determinación obtenido es un número entre 0 y 1. Un valor más cercano a 1 indica que el modelo es capaz de explicar una mayor cantidad de la variabilidad en la variable objetivo, mientras que un valor cercano a 0 indica que el modelo no es capaz de explicar bien la variabilidad."
      ],
      "metadata": {
        "id": "sT1gUXGEZyAM"
      }
    },
    {
      "cell_type": "code",
      "source": [
        "# Calcular el coeficiente de determinación (R2)\n",
        "r2 = r2_score(y_test, y_pred)  # Reemplaza y_test con tus etiquetas de prueba\n",
        "print(\"Coeficiente de determinación (R2):\", r2)"
      ],
      "metadata": {
        "colab": {
          "base_uri": "https://localhost:8080/"
        },
        "id": "gJhA2ZLvDdPk",
        "outputId": "9c768713-a50b-49fc-acce-3cc42d314921"
      },
      "execution_count": 44,
      "outputs": [
        {
          "output_type": "stream",
          "name": "stdout",
          "text": [
            "Coeficiente de determinación (R2): 0.9970546755713761\n"
          ]
        }
      ]
    },
    {
      "cell_type": "markdown",
      "source": [
        "Se calculó el coeficiente de determinación (R2) del modelo de árbol de decisión utilizando la métrica R2. Se obtuvo un valor de R2 de 0.99, lo que indica que el modelo es altamente capaz de explicar la variabilidad en la variable objetivo en el conjunto de prueba. Esto demuestra que el modelo tiene un ajuste excelente a los datos y es capaz de explicar casi la totalidad de la variabilidad presente en la variable objetivo."
      ],
      "metadata": {
        "id": "VnnvC-6nZzbF"
      }
    },
    {
      "cell_type": "markdown",
      "source": [
        "# **Importancia de las características**"
      ],
      "metadata": {
        "id": "YkZuXkT14dmK"
      }
    },
    {
      "cell_type": "markdown",
      "source": [
        "En este fragmento de código, se obtiene la importancia de las características utilizadas en el modelo de árbol de decisión. La importancia de las características indica la contribución relativa de cada característica en la toma de decisiones del modelo.\n",
        "\n",
        "Primero, se utiliza la función feature_importances_ del modelo de árbol de decisión para obtener las importancias de las características. Estas importancias se almacenan en la variable importances.\n",
        "\n",
        "Luego, se obtiene el nombre de las características utilizando X.columns, donde X es el conjunto de características utilizado en el modelo.\n",
        "\n",
        "Después, se crea un DataFrame llamado feature_importances que contiene dos columnas: \"Feature\" para los nombres de las características y \"Importance\" para las importancias correspondientes.\n",
        "\n",
        "Finalmente, se ordena el DataFrame en orden descendente de importancia utilizando sort_values().\n"
      ],
      "metadata": {
        "id": "GSCHtbK83-3P"
      }
    },
    {
      "cell_type": "code",
      "source": [
        "# Obtener la importancia de las características\n",
        "importances = model.feature_importances_\n"
      ],
      "metadata": {
        "id": "BWTyX9U9Zs3E"
      },
      "execution_count": 45,
      "outputs": []
    },
    {
      "cell_type": "code",
      "source": [
        "# Obtener el nombre de las características\n",
        "feature_names = X.columns\n"
      ],
      "metadata": {
        "id": "PzqZq_g6br_6"
      },
      "execution_count": 46,
      "outputs": []
    },
    {
      "cell_type": "code",
      "source": [
        "# Crear un dataframe con las importancias de las características\n",
        "feature_importances = pd.DataFrame({'Feature': feature_names, 'Importance': importances})\n",
        "feature_importances = feature_importances.sort_values(by='Importance', ascending=False)\n"
      ],
      "metadata": {
        "id": "azSDMs6vbvvj"
      },
      "execution_count": 47,
      "outputs": []
    },
    {
      "cell_type": "code",
      "source": [
        "# Crear una lista de colores para las barras\n",
        "colors = ['blue', 'green', 'red', 'yellow', 'orange']"
      ],
      "metadata": {
        "id": "rNgRcFTEBTWj"
      },
      "execution_count": 48,
      "outputs": []
    },
    {
      "cell_type": "code",
      "source": [
        "# Graficar la importancia de las características con colores y texto\n",
        "plt.figure(figsize=(10, 6))\n",
        "bars = plt.bar(feature_importances['Feature'], feature_importances['Importance'], color=colors)\n",
        "for bar in bars:\n",
        "    height = bar.get_height()\n",
        "    plt.text(bar.get_x() + bar.get_width() / 2, height, round(height, 2), ha='center', va='bottom')\n",
        "plt.xticks(rotation=90)\n",
        "plt.xlabel('Características')\n",
        "plt.ylabel('Importancia')\n",
        "plt.title('Importancia de las Características')\n",
        "plt.show()"
      ],
      "metadata": {
        "colab": {
          "base_uri": "https://localhost:8080/",
          "height": 628
        },
        "id": "jwTTk-pLbzmv",
        "outputId": "c29e9520-0a6c-4e73-e347-69aa8dcfe021"
      },
      "execution_count": 49,
      "outputs": [
        {
          "output_type": "display_data",
          "data": {
            "text/plain": [
              "<Figure size 1000x600 with 1 Axes>"
            ],
            "image/png": "[encoded data removed]"
          },
          "metadata": {}
        }
      ]
    },
    {
      "cell_type": "markdown",
      "source": [
        "Se calculó la importancia de las características utilizando el modelo de árbol de decisión. Las características se ordenaron en función de su importancia relativa en la toma de decisiones del modelo. Los resultados muestran que Likes es la más importante, seguida de Retweets, Longitud, y así sucesivamente. Esto proporciona una visión clara de las características que más influyen en la predicción de la variable objetivo y puede ser útil para identificar aspectos clave a considerar en futuros análisis y toma de decisiones"
      ],
      "metadata": {
        "id": "XqDwKB366jWt"
      }
    },
    {
      "cell_type": "markdown",
      "source": [
        "# **Comprobar si una publicación tendrá éxito**"
      ],
      "metadata": {
        "id": "rV_h0nEO63kp"
      }
    },
    {
      "cell_type": "markdown",
      "source": [
        "En este fragmento de código se realizan las siguientes acciones:\n",
        "\n",
        "Se convierte la columna de fecha en características numéricas: se utilizan las funciones pd.to_datetime y los métodos .dt.year, .dt.month y .dt.day para obtener las columnas de año, mes y día respectivamente.\n",
        "\n",
        "Se calcula la suma total de retweets y likes mediante la operación data['Retweets'] + data['Likes'].\n",
        "\n",
        "Se calcula el umbral como la media de la suma total utilizando np.mean(suma_total).\n",
        "\n",
        "Se crea la variable objetivo binaria llamada \"Exitosa\" utilizando la función np.where. Si la suma total es mayor que el umbral, se asigna el valor 1, de lo contrario, se asigna el valor 0.\n",
        "\n",
        "Los datos se dividen en características (X) y la variable objetivo (y).\n",
        "\n",
        "Se crea y entrena un modelo de árbol de decisiones utilizando DecisionTreeClassifier() y model.fit(X, y).\n",
        "\n",
        "Se crea un nuevo DataFrame llamado nueva_publicacion que contiene los datos de una nueva publicación a predecir. Se realiza el preprocesamiento de la fecha de la misma manera que se hizo para los datos originales.\n",
        "\n",
        "Se seleccionan las columnas correspondientes de nueva_publicacion y se realiza la predicción de éxito de la publicación utilizando model.predict(nueva_publicacion).\n",
        "\n",
        "Finalmente, se imprime el resultado de la predicción indicando si la publicación tendrá éxito o no."
      ],
      "metadata": {
        "id": "IpQhcUrg6zHP"
      }
    },
    {
      "cell_type": "code",
      "source": [
        "# Convertir la columna de fecha a características numéricas\n",
        "data['Fecha'] = pd.to_datetime(data['Fecha'])\n",
        "data['Año'] = data['Fecha'].dt.year\n",
        "data['Mes'] = data['Fecha'].dt.month\n",
        "data['Día'] = data['Fecha'].dt.day"
      ],
      "metadata": {
        "id": "z4Nm0hpdYGrD"
      },
      "execution_count": 50,
      "outputs": []
    },
    {
      "cell_type": "code",
      "source": [
        "# Obtener la suma total de retweets y likes\n",
        "suma_total = data['Retweets'] + data['Likes']\n",
        "\n",
        "# Calcular el umbral como la media de la suma total\n",
        "umbral = np.mean(suma_total)\n",
        "\n",
        "# Crear la variable objetivo binaria\n",
        "data['Exitosa'] = np.where(suma_total > umbral, 1, 0)\n",
        "\n",
        "# Dividir los datos en características y variable objetivo\n",
        "X = data[['Año', 'Mes', 'Día', 'Likes', 'Retweets', 'Longitud', 'Seguidores','Menciones']]  # Reemplaza los nombres de las columnas con tus propias características\n",
        "y = data['Exitosa']  # Reemplaza 'Aceptacion' con el nombre de tu columna objetivo\n"
      ],
      "metadata": {
        "id": "GLumYpM_c8nV"
      },
      "execution_count": 51,
      "outputs": []
    },
    {
      "cell_type": "code",
      "source": [
        "# Crear el modelo de árbol de decisiones\n",
        "model = DecisionTreeClassifier()\n",
        "model.fit(X, y)"
      ],
      "metadata": {
        "colab": {
          "base_uri": "https://localhost:8080/",
          "height": 75
        },
        "id": "ZUcm0ZT1dOsM",
        "outputId": "f52d0dd9-8316-42f7-be7f-bdae7ed81b84"
      },
      "execution_count": 52,
      "outputs": [
        {
          "output_type": "execute_result",
          "data": {
            "text/plain": [
              "DecisionTreeClassifier()"
            ],
            "text/html": [
              "<style>#sk-container-id-3 {color: black;background-color: white;}#sk-container-id-3 pre{padding: 0;}#sk-container-id-3 div.sk-toggleable {background-color: white;}#sk-container-id-3 label.sk-toggleable__label {cursor: pointer;display: block;width: 100%;margin-bottom: 0;padding: 0.3em;box-sizing: border-box;text-align: center;}#sk-container-id-3 label.sk-toggleable__label-arrow:before {content: \"▸\";float: left;margin-right: 0.25em;color: #696969;}#sk-container-id-3 label.sk-toggleable__label-arrow:hover:before {color: black;}#sk-container-id-3 div.sk-estimator:hover label.sk-toggleable__label-arrow:before {color: black;}#sk-container-id-3 div.sk-toggleable__content {max-height: 0;max-width: 0;overflow: hidden;text-align: left;background-color: #f0f8ff;}#sk-container-id-3 div.sk-toggleable__content pre {margin: 0.2em;color: black;border-radius: 0.25em;background-color: #f0f8ff;}#sk-container-id-3 input.sk-toggleable__control:checked~div.sk-toggleable__content {max-height: 200px;max-width: 100%;overflow: auto;}#sk-container-id-3 input.sk-toggleable__control:checked~label.sk-toggleable__label-arrow:before {content: \"▾\";}#sk-container-id-3 div.sk-estimator input.sk-toggleable__control:checked~label.sk-toggleable__label {background-color: #d4ebff;}#sk-container-id-3 div.sk-label input.sk-toggleable__control:checked~label.sk-toggleable__label {background-color: #d4ebff;}#sk-container-id-3 input.sk-hidden--visually {border: 0;clip: rect(1px 1px 1px 1px);clip: rect(1px, 1px, 1px, 1px);height: 1px;margin: -1px;overflow: hidden;padding: 0;position: absolute;width: 1px;}#sk-container-id-3 div.sk-estimator {font-family: monospace;background-color: #f0f8ff;border: 1px dotted black;border-radius: 0.25em;box-sizing: border-box;margin-bottom: 0.5em;}#sk-container-id-3 div.sk-estimator:hover {background-color: #d4ebff;}#sk-container-id-3 div.sk-parallel-item::after {content: \"\";width: 100%;border-bottom: 1px solid gray;flex-grow: 1;}#sk-container-id-3 div.sk-label:hover label.sk-toggleable__label {background-color: #d4ebff;}#sk-container-id-3 div.sk-serial::before {content: \"\";position: absolute;border-left: 1px solid gray;box-sizing: border-box;top: 0;bottom: 0;left: 50%;z-index: 0;}#sk-container-id-3 div.sk-serial {display: flex;flex-direction: column;align-items: center;background-color: white;padding-right: 0.2em;padding-left: 0.2em;position: relative;}#sk-container-id-3 div.sk-item {position: relative;z-index: 1;}#sk-container-id-3 div.sk-parallel {display: flex;align-items: stretch;justify-content: center;background-color: white;position: relative;}#sk-container-id-3 div.sk-item::before, #sk-container-id-3 div.sk-parallel-item::before {content: \"\";position: absolute;border-left: 1px solid gray;box-sizing: border-box;top: 0;bottom: 0;left: 50%;z-index: -1;}#sk-container-id-3 div.sk-parallel-item {display: flex;flex-direction: column;z-index: 1;position: relative;background-color: white;}#sk-container-id-3 div.sk-parallel-item:first-child::after {align-self: flex-end;width: 50%;}#sk-container-id-3 div.sk-parallel-item:last-child::after {align-self: flex-start;width: 50%;}#sk-container-id-3 div.sk-parallel-item:only-child::after {width: 0;}#sk-container-id-3 div.sk-dashed-wrapped {border: 1px dashed gray;margin: 0 0.4em 0.5em 0.4em;box-sizing: border-box;padding-bottom: 0.4em;background-color: white;}#sk-container-id-3 div.sk-label label {font-family: monospace;font-weight: bold;display: inline-block;line-height: 1.2em;}#sk-container-id-3 div.sk-label-container {text-align: center;}#sk-container-id-3 div.sk-container {/* jupyter's `normalize.less` sets `[hidden] { display: none; }` but bootstrap.min.css set `[hidden] { display: none !important; }` so we also need the `!important` here to be able to override the default hidden behavior on the sphinx rendered scikit-learn.org. See: https://github.com/scikit-learn/scikit-learn/issues/21755 */display: inline-block !important;position: relative;}#sk-container-id-3 div.sk-text-repr-fallback {display: none;}</style><div id=\"sk-container-id-3\" class=\"sk-top-container\"><div class=\"sk-text-repr-fallback\"><pre>DecisionTreeClassifier()</pre><b>In a Jupyter environment, please rerun this cell to show the HTML representation or trust the notebook. <br />On GitHub, the HTML representation is unable to render, please try loading this page with nbviewer.org.</b></div><div class=\"sk-container\" hidden><div class=\"sk-item\"><div class=\"sk-estimator sk-toggleable\"><input class=\"sk-toggleable__control sk-hidden--visually\" id=\"sk-estimator-id-3\" type=\"checkbox\" checked><label for=\"sk-estimator-id-3\" class=\"sk-toggleable__label sk-toggleable__label-arrow\">DecisionTreeClassifier</label><div class=\"sk-toggleable__content\"><pre>DecisionTreeClassifier()</pre></div></div></div></div></div>"
            ]
          },
          "metadata": {},
          "execution_count": 52
        }
      ]
    },
    {
      "cell_type": "code",
      "source": [
        "# Datos de una nueva publicación a predecir\n",
        "nueva_publicacion = pd.DataFrame({'Fecha': ['2023-11-25'], 'Likes': [800], 'Retweets': [900], 'Longitud': [40], 'Seguidores': [200000], 'Menciones': [2000]})\n",
        "nueva_publicacion['Fecha'] = pd.to_datetime(nueva_publicacion['Fecha'])\n",
        "nueva_publicacion['Año'] = nueva_publicacion['Fecha'].dt.year\n",
        "nueva_publicacion['Mes'] = nueva_publicacion['Fecha'].dt.month\n",
        "nueva_publicacion['Día'] = nueva_publicacion['Fecha'].dt.day\n",
        "nueva_publicacion = nueva_publicacion[['Año', 'Mes', 'Día', 'Likes', 'Retweets', 'Longitud', 'Seguidores','Menciones']]\n"
      ],
      "metadata": {
        "id": "zL1oaEa9dSel"
      },
      "execution_count": 53,
      "outputs": []
    },
    {
      "cell_type": "code",
      "source": [
        "# Realizar la predicción de éxito de la nueva publicación\n",
        "prediccion = model.predict(nueva_publicacion)"
      ],
      "metadata": {
        "id": "3e4QMuMbdnrN"
      },
      "execution_count": 54,
      "outputs": []
    },
    {
      "cell_type": "code",
      "source": [
        "# Imprimir la predicción\n",
        "if prediccion[0] == 1:\n",
        "    print(\"La publicación tendrá éxito.\")\n",
        "else:\n",
        "    print(\"La publicación no tendrá éxito.\")"
      ],
      "metadata": {
        "colab": {
          "base_uri": "https://localhost:8080/"
        },
        "id": "ELqL08zUeS64",
        "outputId": "30a5f411-59ad-42cb-8911-783ac06beaa9"
      },
      "execution_count": 55,
      "outputs": [
        {
          "output_type": "stream",
          "name": "stdout",
          "text": [
            "La publicación tendrá éxito.\n"
          ]
        }
      ]
    },
    {
      "cell_type": "markdown",
      "source": [
        "Se implementó un modelo de árbol de decisiones para predecir el éxito de las publicaciones. Se utilizaron características como el año, mes, día, likes, retweets, longitud del contenido, seguidores y menciones. Los resultados mostraron que una nueva publicación tendrá éxito si se predice con el valor 1. Esto brinda una herramienta útil para evaluar el potencial de éxito de las publicaciones y tomar decisiones informadas sobre las estrategias de publicación."
      ],
      "metadata": {
        "id": "p-ju7s2j7MCu"
      }
    }
  ]
}